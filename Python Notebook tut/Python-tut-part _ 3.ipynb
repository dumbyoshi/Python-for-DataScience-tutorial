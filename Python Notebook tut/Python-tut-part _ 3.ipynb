{
 "cells": [
  {
   "cell_type": "markdown",
   "id": "3b054185",
   "metadata": {},
   "source": [
    "@nitinkrishnan\n",
    "\n",
    "Day 3\n",
    "\n",
    "## Sets\n",
    "One of the 4 build-in data types ,this sets are used to store multiple items in a single variabale.It is differnt from lists , it cant be changed and cant be indexed.There can be no duplicate items inside a set."
   ]
  },
  {
   "cell_type": "code",
   "execution_count": 4,
   "id": "94f70c3b",
   "metadata": {},
   "outputs": [
    {
     "name": "stdout",
     "output_type": "stream",
     "text": [
      "set()\n",
      "<class 'set'>\n"
     ]
    }
   ],
   "source": [
    "##Defining a empty set\n",
    "\n",
    "set_itm = set()\n",
    "print(set_itm)\n",
    "print(type(set_itm))"
   ]
  },
  {
   "cell_type": "code",
   "execution_count": 10,
   "id": "ee2c6a8a",
   "metadata": {},
   "outputs": [
    {
     "name": "stdout",
     "output_type": "stream",
     "text": [
      "{1, 2, 3, 4, 5, 6}\n"
     ]
    }
   ],
   "source": [
    "set_num = {1,2,3,4,4,5,5,6,6}\n",
    "print(set_num)\n",
    "## We can see that the repeated items are not shown in output as sets do not show duplicate elements inside it."
   ]
  },
  {
   "cell_type": "code",
   "execution_count": 7,
   "id": "dd9343ad",
   "metadata": {},
   "outputs": [
    {
     "name": "stdout",
     "output_type": "stream",
     "text": [
      "{'Iron Man', 'Thor', 'Starlord', 'Captain America'}\n"
     ]
    },
    {
     "data": {
      "text/plain": [
       "set"
      ]
     },
     "execution_count": 7,
     "metadata": {},
     "output_type": "execute_result"
    }
   ],
   "source": [
    "aven = {\"Captain America\" , \"Iron Man\" , \"Thor\", \"Starlord\"} ## In sets we use curly brackets\n",
    "print(aven)\n",
    "type(aven)"
   ]
  },
  {
   "cell_type": "code",
   "execution_count": 12,
   "id": "0463d15f",
   "metadata": {},
   "outputs": [
    {
     "name": "stdout",
     "output_type": "stream",
     "text": [
      "{'Iron Man', 'Hulk', 'Captain America', 'Thor', 'Starlord'}\n"
     ]
    }
   ],
   "source": [
    "#Inbuilt functions in sets.\n",
    "aven.add(\"Hulk\")\n",
    "print(aven)"
   ]
  },
  {
   "cell_type": "markdown",
   "id": "8201f62f",
   "metadata": {},
   "source": [
    "Above i gave a basic inbuilt funtion you can search for other functions those are cool."
   ]
  },
  {
   "cell_type": "markdown",
   "id": "1ae32efd",
   "metadata": {},
   "source": [
    "## Dictionaries \n"
   ]
  },
  {
   "cell_type": "markdown",
   "id": "7a4ba909",
   "metadata": {},
   "source": [
    "Dictionaries are used to store data in key and values.It uses curley brackets inside stores a collection of data which can be changable but does not allow duplicate elements. They have a key and a value"
   ]
  },
  {
   "cell_type": "code",
   "execution_count": 14,
   "id": "52af1c66",
   "metadata": {},
   "outputs": [
    {
     "data": {
      "text/plain": [
       "dict"
      ]
     },
     "execution_count": 14,
     "metadata": {},
     "output_type": "execute_result"
    }
   ],
   "source": [
    "dic={}\n",
    "type(dic)"
   ]
  },
  {
   "cell_type": "code",
   "execution_count": 30,
   "id": "b2738d0f",
   "metadata": {},
   "outputs": [
    {
     "name": "stdout",
     "output_type": "stream",
     "text": [
      "<class 'dict'>\n"
     ]
    }
   ],
   "source": [
    "fav_cars = {\"car1\":\"BMW\" , \"car2\":\"Benz\" , \"car3\":\"Maclaren\"}\n",
    "print(type(cars))"
   ]
  },
  {
   "cell_type": "code",
   "execution_count": 35,
   "id": "2e5c1d40",
   "metadata": {},
   "outputs": [
    {
     "name": "stdout",
     "output_type": "stream",
     "text": [
      "car1\n",
      "car2\n",
      "car3\n"
     ]
    }
   ],
   "source": [
    "#for loop is used here to iterate all key inside.\n",
    "for x in fav_cars:\n",
    "    print(x)"
   ]
  },
  {
   "cell_type": "code",
   "execution_count": 36,
   "id": "37ae80b8",
   "metadata": {},
   "outputs": [
    {
     "name": "stdout",
     "output_type": "stream",
     "text": [
      "BMW\n",
      "Benz\n",
      "Maclaren\n"
     ]
    }
   ],
   "source": [
    "#for loop is used here aslo in which here we have used .values to retrieve values for the keys.\n",
    "for x in fav_cars.values():\n",
    "    print(x)"
   ]
  },
  {
   "cell_type": "code",
   "execution_count": 31,
   "id": "9ffbf52f",
   "metadata": {},
   "outputs": [
    {
     "data": {
      "text/plain": [
       "'Maclaren'"
      ]
     },
     "execution_count": 31,
     "metadata": {},
     "output_type": "execute_result"
    }
   ],
   "source": [
    "#how to access a element in a dict\n",
    "fav_cars[\"car3\"]"
   ]
  },
  {
   "cell_type": "code",
   "execution_count": 32,
   "id": "a7c0beae",
   "metadata": {},
   "outputs": [
    {
     "name": "stdout",
     "output_type": "stream",
     "text": [
      "BMW\n"
     ]
    }
   ],
   "source": [
    "print(cars.get('car1'))\n"
   ]
  },
  {
   "cell_type": "code",
   "execution_count": 37,
   "id": "f0418d85",
   "metadata": {
    "scrolled": true
   },
   "outputs": [
    {
     "data": {
      "text/plain": [
       "{'car1': 'BMW', 'car2': 'Benz', 'car3': 'Maclaren', 'car4': 'Maserati'}"
      ]
     },
     "execution_count": 37,
     "metadata": {},
     "output_type": "execute_result"
    }
   ],
   "source": [
    "#Adding a new element inside the dict{}\n",
    "fav_cars[\"car4\"] = \"Maserati\"\n",
    "fav_cars"
   ]
  },
  {
   "cell_type": "markdown",
   "id": "8674e0a0",
   "metadata": {},
   "source": [
    "## Nested Dictionaries"
   ]
  },
  {
   "cell_type": "code",
   "execution_count": 42,
   "id": "3d84a000",
   "metadata": {},
   "outputs": [],
   "source": [
    "car1_model = {\"Mahindra\":\"XUV700\"}\n",
    "car2_model = {\"Tata\":\"Tiago\"}\n",
    "car3_model = {\"Skoda\":\"Octavia\"}"
   ]
  },
  {
   "cell_type": "code",
   "execution_count": 44,
   "id": "b0a055e2",
   "metadata": {},
   "outputs": [
    {
     "name": "stdout",
     "output_type": "stream",
     "text": [
      "{'car1': {'Mahindra': 'XUV700'}, 'car2': {'Tata': 'Tiago'}, 'car3': {'Skoda': 'Octavia'}}\n"
     ]
    }
   ],
   "source": [
    "car_type = {'car1':car1_model , 'car2':car2_model , 'car3' : car3_model}\n",
    "print(car_type)"
   ]
  },
  {
   "cell_type": "code",
   "execution_count": 45,
   "id": "21e54662",
   "metadata": {},
   "outputs": [
    {
     "data": {
      "text/plain": [
       "dict"
      ]
     },
     "execution_count": 45,
     "metadata": {},
     "output_type": "execute_result"
    }
   ],
   "source": [
    "type(car_type)\n"
   ]
  },
  {
   "cell_type": "code",
   "execution_count": 46,
   "id": "de9378d4",
   "metadata": {},
   "outputs": [
    {
     "name": "stdout",
     "output_type": "stream",
     "text": [
      "{'Mahindra': 'XUV700'}\n"
     ]
    }
   ],
   "source": [
    "print(car_type['car1'])"
   ]
  },
  {
   "cell_type": "code",
   "execution_count": 47,
   "id": "91071726",
   "metadata": {},
   "outputs": [
    {
     "name": "stdout",
     "output_type": "stream",
     "text": [
      "XUV700\n"
     ]
    }
   ],
   "source": [
    "print(car_type['car1']['Mahindra'])"
   ]
  },
  {
   "cell_type": "markdown",
   "id": "5ad0d6b7",
   "metadata": {},
   "source": [
    "## Tuples\n",
    "\n"
   ]
  },
  {
   "cell_type": "markdown",
   "id": "8a427c98",
   "metadata": {},
   "source": [
    "Tuples are used to store multiple items in a single variable. Tuple is one of 4 built-in data types in Python used to store collections of data"
   ]
  },
  {
   "cell_type": "code",
   "execution_count": 50,
   "id": "8735b33b",
   "metadata": {},
   "outputs": [
    {
     "name": "stdout",
     "output_type": "stream",
     "text": [
      "<class 'tuple'>\n"
     ]
    }
   ],
   "source": [
    "my_tuple = tuple()#in tuple round brackets are used.\n",
    "print(type(my_tuple))"
   ]
  },
  {
   "cell_type": "code",
   "execution_count": 55,
   "id": "a3b22a06",
   "metadata": {},
   "outputs": [],
   "source": [
    "my_tuple = (\"Nithin\" , \"Krish\" , \"Aishwarya\")"
   ]
  },
  {
   "cell_type": "code",
   "execution_count": 57,
   "id": "b88df22f",
   "metadata": {},
   "outputs": [
    {
     "data": {
      "text/plain": [
       "1"
      ]
     },
     "execution_count": 57,
     "metadata": {},
     "output_type": "execute_result"
    }
   ],
   "source": [
    "my_tuple.count(\"Krish\")"
   ]
  },
  {
   "cell_type": "code",
   "execution_count": 58,
   "id": "d7f3aa78",
   "metadata": {},
   "outputs": [
    {
     "data": {
      "text/plain": [
       "2"
      ]
     },
     "execution_count": 58,
     "metadata": {},
     "output_type": "execute_result"
    }
   ],
   "source": [
    "my_tuple.index(\"Aishwarya\")"
   ]
  }
 ],
 "metadata": {
  "kernelspec": {
   "display_name": "Python 3 (ipykernel)",
   "language": "python",
   "name": "python3"
  },
  "language_info": {
   "codemirror_mode": {
    "name": "ipython",
    "version": 3
   },
   "file_extension": ".py",
   "mimetype": "text/x-python",
   "name": "python",
   "nbconvert_exporter": "python",
   "pygments_lexer": "ipython3",
   "version": "3.9.7"
  }
 },
 "nbformat": 4,
 "nbformat_minor": 5
}
