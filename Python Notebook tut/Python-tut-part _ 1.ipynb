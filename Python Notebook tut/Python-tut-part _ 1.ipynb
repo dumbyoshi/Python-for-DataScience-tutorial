{
 "cells": [
  {
   "cell_type": "markdown",
   "id": "992f93e2",
   "metadata": {},
   "source": [
    "@nithinkrish-25\n",
    "# Welcome to Python tutorial\n",
    "## BASICS OF PYTHON\n",
    "\n",
    "In this section we are going to learn about basics of python.\n",
    "  \n",
    "- Data types in Python\n",
    "- Variables in Python\n",
    "- Variables assigment\n",
    "- Print formatting "
   ]
  },
  {
   "cell_type": "markdown",
   "id": "7414c62f",
   "metadata": {},
   "source": [
    "### Integers (int)"
   ]
  },
  {
   "cell_type": "code",
   "execution_count": 2,
   "id": "efe94722",
   "metadata": {},
   "outputs": [
    {
     "data": {
      "text/plain": [
       "3"
      ]
     },
     "execution_count": 2,
     "metadata": {},
     "output_type": "execute_result"
    }
   ],
   "source": [
    "1+2"
   ]
  },
  {
   "cell_type": "code",
   "execution_count": 3,
   "id": "eb66368a",
   "metadata": {},
   "outputs": [
    {
     "data": {
      "text/plain": [
       "7"
      ]
     },
     "execution_count": 3,
     "metadata": {},
     "output_type": "execute_result"
    }
   ],
   "source": [
    "19-12"
   ]
  },
  {
   "cell_type": "code",
   "execution_count": 4,
   "id": "622ced75",
   "metadata": {},
   "outputs": [
    {
     "data": {
      "text/plain": [
       "450"
      ]
     },
     "execution_count": 4,
     "metadata": {},
     "output_type": "execute_result"
    }
   ],
   "source": [
    "45*10"
   ]
  },
  {
   "cell_type": "code",
   "execution_count": 7,
   "id": "b9d943f4",
   "metadata": {},
   "outputs": [
    {
     "data": {
      "text/plain": [
       "10.0"
      ]
     },
     "execution_count": 7,
     "metadata": {},
     "output_type": "execute_result"
    }
   ],
   "source": [
    "50/5"
   ]
  },
  {
   "cell_type": "code",
   "execution_count": 8,
   "id": "0714cf62",
   "metadata": {},
   "outputs": [
    {
     "data": {
      "text/plain": [
       "6250000"
      ]
     },
     "execution_count": 8,
     "metadata": {},
     "output_type": "execute_result"
    }
   ],
   "source": [
    "50**4"
   ]
  },
  {
   "cell_type": "markdown",
   "id": "45f6ea98",
   "metadata": {},
   "source": [
    "### Float (float)"
   ]
  },
  {
   "cell_type": "code",
   "execution_count": 9,
   "id": "a5b3f6b2",
   "metadata": {},
   "outputs": [
    {
     "data": {
      "text/plain": [
       "466.38900000000007"
      ]
     },
     "execution_count": 9,
     "metadata": {},
     "output_type": "execute_result"
    }
   ],
   "source": [
    "20.19 * 23.10"
   ]
  },
  {
   "cell_type": "code",
   "execution_count": 10,
   "id": "4de2e475",
   "metadata": {},
   "outputs": [
    {
     "data": {
      "text/plain": [
       "298.52"
      ]
     },
     "execution_count": 10,
     "metadata": {},
     "output_type": "execute_result"
    }
   ],
   "source": [
    "167.54 + 130.98"
   ]
  },
  {
   "cell_type": "markdown",
   "id": "bb5a0785",
   "metadata": {},
   "source": [
    "### Complex (complex) "
   ]
  },
  {
   "cell_type": "raw",
   "id": "e8ed4719",
   "metadata": {},
   "source": [
    "eg: x=1j "
   ]
  },
  {
   "cell_type": "markdown",
   "id": "55d99680",
   "metadata": {},
   "source": [
    "### String (str)\n"
   ]
  },
  {
   "cell_type": "code",
   "execution_count": 12,
   "id": "b828cad5",
   "metadata": {},
   "outputs": [],
   "source": [
    "x = \"Nithin\""
   ]
  },
  {
   "cell_type": "code",
   "execution_count": 13,
   "id": "c1b9ff07",
   "metadata": {},
   "outputs": [
    {
     "name": "stdout",
     "output_type": "stream",
     "text": [
      "Nithin\n"
     ]
    }
   ],
   "source": [
    "print(x)"
   ]
  },
  {
   "cell_type": "markdown",
   "id": "9078abca",
   "metadata": {},
   "source": [
    "###  Tuple  (tuple)"
   ]
  },
  {
   "cell_type": "code",
   "execution_count": 14,
   "id": "3aa0ba9a",
   "metadata": {},
   "outputs": [],
   "source": [
    "x = (\"apple\", \"banana\", \"cherry\")"
   ]
  },
  {
   "cell_type": "code",
   "execution_count": 15,
   "id": "3a710979",
   "metadata": {},
   "outputs": [
    {
     "name": "stdout",
     "output_type": "stream",
     "text": [
      "banana\n"
     ]
    }
   ],
   "source": [
    "print(x[1])"
   ]
  },
  {
   "cell_type": "markdown",
   "id": "f1c12060",
   "metadata": {},
   "source": [
    "### List (list) "
   ]
  },
  {
   "cell_type": "code",
   "execution_count": null,
   "id": "b98c80ea",
   "metadata": {},
   "outputs": [],
   "source": [
    "x = [\"Tesla\", \"Maclaren\", \"Maserati\"]"
   ]
  },
  {
   "cell_type": "markdown",
   "id": "ba9ab0f3",
   "metadata": {},
   "source": [
    "### Dictionary (dict)"
   ]
  },
  {
   "cell_type": "code",
   "execution_count": null,
   "id": "1b637f4c",
   "metadata": {},
   "outputs": [],
   "source": [
    "x = {\"Name\" : \"Nithin\", \"age\" : 25}"
   ]
  },
  {
   "cell_type": "markdown",
   "id": "68efbd17",
   "metadata": {},
   "source": [
    "### Boolean (Bool)"
   ]
  },
  {
   "cell_type": "code",
   "execution_count": 25,
   "id": "5209007c",
   "metadata": {},
   "outputs": [],
   "source": [
    "x = True\n"
   ]
  },
  {
   "cell_type": "code",
   "execution_count": 28,
   "id": "cb7451a7",
   "metadata": {},
   "outputs": [
    {
     "name": "stdout",
     "output_type": "stream",
     "text": [
      "True\n"
     ]
    }
   ],
   "source": [
    "print (x)"
   ]
  },
  {
   "cell_type": "markdown",
   "id": "5ef0aea2",
   "metadata": {},
   "source": [
    "### To identify the type of the data..!"
   ]
  },
  {
   "cell_type": "code",
   "execution_count": 30,
   "id": "8da15395",
   "metadata": {},
   "outputs": [
    {
     "data": {
      "text/plain": [
       "str"
      ]
     },
     "execution_count": 30,
     "metadata": {},
     "output_type": "execute_result"
    }
   ],
   "source": [
    "x = \"Hallo Menschen\"\n",
    "type(x)"
   ]
  },
  {
   "cell_type": "markdown",
   "id": "8c40420c",
   "metadata": {},
   "source": [
    "## Variable assignment "
   ]
  },
  {
   "cell_type": "code",
   "execution_count": 33,
   "id": "c16c1357",
   "metadata": {},
   "outputs": [
    {
     "name": "stdout",
     "output_type": "stream",
     "text": [
      "10\n"
     ]
    },
    {
     "data": {
      "text/plain": [
       "int"
      ]
     },
     "execution_count": 33,
     "metadata": {},
     "output_type": "execute_result"
    }
   ],
   "source": [
    "a = 10 \n",
    "print(a)\n",
    "type(a)\n",
    "#in here we have assigned a to the value 10 in second line we have printed the a which contain the value and aslo the type of the data."
   ]
  },
  {
   "cell_type": "code",
   "execution_count": 34,
   "id": "a7503d51",
   "metadata": {},
   "outputs": [],
   "source": [
    "a = 20\n",
    "b = 15"
   ]
  },
  {
   "cell_type": "code",
   "execution_count": 35,
   "id": "6ea81ee6",
   "metadata": {},
   "outputs": [
    {
     "name": "stdout",
     "output_type": "stream",
     "text": [
      "35\n"
     ]
    }
   ],
   "source": [
    "print (a+b)"
   ]
  },
  {
   "cell_type": "markdown",
   "id": "a7e3582c",
   "metadata": {},
   "source": [
    "### Print Formating"
   ]
  },
  {
   "cell_type": "code",
   "execution_count": 43,
   "id": "1f7a3f21",
   "metadata": {},
   "outputs": [],
   "source": [
    "first_name = 'Nithin'\n",
    "last_name = 'Krishnan'"
   ]
  },
  {
   "cell_type": "code",
   "execution_count": 44,
   "id": "6ec20c12",
   "metadata": {},
   "outputs": [
    {
     "name": "stdout",
     "output_type": "stream",
     "text": [
      "The first name is Nithin and the surname is Krishnan\n"
     ]
    }
   ],
   "source": [
    "print (\"The first name is {} and the surname is {}\".format(first_name ,last_name)) \n",
    "#here i have assigned first_name and last_name with my full name and down here, using format function i have assigned inside using curly brackets"
   ]
  },
  {
   "cell_type": "code",
   "execution_count": 50,
   "id": "a9a916f4",
   "metadata": {},
   "outputs": [
    {
     "data": {
      "text/plain": [
       "6"
      ]
     },
     "execution_count": 50,
     "metadata": {},
     "output_type": "execute_result"
    }
   ],
   "source": [
    "len(first_name)\n"
   ]
  },
  {
   "cell_type": "code",
   "execution_count": 49,
   "id": "0ca31f8e",
   "metadata": {},
   "outputs": [
    {
     "data": {
      "text/plain": [
       "str"
      ]
     },
     "execution_count": 49,
     "metadata": {},
     "output_type": "execute_result"
    }
   ],
   "source": [
    "type(first_name)"
   ]
  }
 ],
 "metadata": {
  "kernelspec": {
   "display_name": "Python 3 (ipykernel)",
   "language": "python",
   "name": "python3"
  },
  "language_info": {
   "codemirror_mode": {
    "name": "ipython",
    "version": 3
   },
   "file_extension": ".py",
   "mimetype": "text/x-python",
   "name": "python",
   "nbconvert_exporter": "python",
   "pygments_lexer": "ipython3",
   "version": "3.9.7"
  }
 },
 "nbformat": 4,
 "nbformat_minor": 5
}
