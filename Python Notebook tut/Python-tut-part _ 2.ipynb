{
 "cells": [
  {
   "cell_type": "markdown",
   "id": "1e65b13e",
   "metadata": {},
   "source": [
    "@nithinkrish-25                                           \n",
    "Day 2\n",
    "\n",
    "# Python Data structures and Boolean\n",
    "\n",
    "\n",
    "- Boolean\n",
    "- Boolean and Logical Operators\n",
    "- Lists\n",
    "- Comparison Operators\n",
    "- Dictionaries\n",
    "- Tuples\n",
    "- Sets"
   ]
  },
  {
   "cell_type": "markdown",
   "id": "d9d2ff2e",
   "metadata": {},
   "source": [
    "## Boolean Variables\n",
    "- It is one of the python's data types.The use of this is to represent the True or False value of an expression."
   ]
  },
  {
   "cell_type": "code",
   "execution_count": 15,
   "id": "2342d89f",
   "metadata": {},
   "outputs": [
    {
     "name": "stdout",
     "output_type": "stream",
     "text": [
      "True False\n"
     ]
    }
   ],
   "source": [
    "print(True,False)"
   ]
  },
  {
   "cell_type": "code",
   "execution_count": 14,
   "id": "9dee9057",
   "metadata": {},
   "outputs": [
    {
     "data": {
      "text/plain": [
       "bool"
      ]
     },
     "execution_count": 14,
     "metadata": {},
     "output_type": "execute_result"
    }
   ],
   "source": [
    "type(True)"
   ]
  },
  {
   "cell_type": "code",
   "execution_count": 19,
   "id": "f5161f41",
   "metadata": {},
   "outputs": [
    {
     "data": {
      "text/plain": [
       "25"
      ]
     },
     "execution_count": 19,
     "metadata": {},
     "output_type": "execute_result"
    }
   ],
   "source": [
    "#Example \n",
    "a = 10\n",
    "b = 15\n",
    "a + b"
   ]
  },
  {
   "cell_type": "code",
   "execution_count": 24,
   "id": "9a562283",
   "metadata": {},
   "outputs": [
    {
     "name": "stdout",
     "output_type": "stream",
     "text": [
      "The answer is correct , the answer is 25\n"
     ]
    }
   ],
   "source": [
    "if a+b:\n",
    "    print(\"The answer is correct , the answer is {}\".format(a+b))\n",
    "else:\n",
    "    print(\"The answer is wrong\")\n",
    "\n",
    "# In this code i used bool to check whether the given expression is true or false , so a+b was actually 25 so it returned that the answer is correct (True).\n",
    "  "
   ]
  },
  {
   "cell_type": "code",
   "execution_count": 25,
   "id": "4bb3b656",
   "metadata": {},
   "outputs": [],
   "source": [
    "my_name = \"Nithin Krishnan\""
   ]
  },
  {
   "cell_type": "code",
   "execution_count": 26,
   "id": "eba2ff65",
   "metadata": {},
   "outputs": [
    {
     "data": {
      "text/plain": [
       "False"
      ]
     },
     "execution_count": 26,
     "metadata": {},
     "output_type": "execute_result"
    }
   ],
   "source": [
    "my_name.isalnum() #okay , now here .isalnum() means whether the given variable contains any numbers so , there are no numerical values so bool value is False."
   ]
  },
  {
   "cell_type": "markdown",
   "id": "c1373b93",
   "metadata": {},
   "source": [
    "## Boolean and Logical Operators  "
   ]
  },
  {
   "cell_type": "code",
   "execution_count": 27,
   "id": "26881663",
   "metadata": {},
   "outputs": [
    {
     "data": {
      "text/plain": [
       "True"
      ]
     },
     "execution_count": 27,
     "metadata": {},
     "output_type": "execute_result"
    }
   ],
   "source": [
    "True and True"
   ]
  },
  {
   "cell_type": "code",
   "execution_count": 28,
   "id": "c8212dde",
   "metadata": {},
   "outputs": [
    {
     "data": {
      "text/plain": [
       "False"
      ]
     },
     "execution_count": 28,
     "metadata": {},
     "output_type": "execute_result"
    }
   ],
   "source": [
    "True and False"
   ]
  },
  {
   "cell_type": "code",
   "execution_count": 29,
   "id": "61c83df7",
   "metadata": {},
   "outputs": [
    {
     "data": {
      "text/plain": [
       "True"
      ]
     },
     "execution_count": 29,
     "metadata": {},
     "output_type": "execute_result"
    }
   ],
   "source": [
    "True or False"
   ]
  },
  {
   "cell_type": "code",
   "execution_count": 30,
   "id": "1a94fd19",
   "metadata": {},
   "outputs": [
    {
     "data": {
      "text/plain": [
       "True"
      ]
     },
     "execution_count": 30,
     "metadata": {},
     "output_type": "execute_result"
    }
   ],
   "source": [
    "True or True"
   ]
  },
  {
   "cell_type": "code",
   "execution_count": 33,
   "id": "22f02102",
   "metadata": {},
   "outputs": [
    {
     "data": {
      "text/plain": [
       "True"
      ]
     },
     "execution_count": 33,
     "metadata": {},
     "output_type": "execute_result"
    }
   ],
   "source": [
    "my_name = \"Nithin Krishnan\"\n",
    "my_num = \"123456\"\n",
    "my_name.isalpha() or my_name.isalnum()\n",
    "#here i have assigned my_name to string and used \"OR\" ,and here  only one is true .So i have returned True."
   ]
  },
  {
   "cell_type": "markdown",
   "id": "b24dd475",
   "metadata": {},
   "source": [
    "## Lists "
   ]
  },
  {
   "cell_type": "markdown",
   "id": "ab2091e2",
   "metadata": {},
   "source": [
    "- List is created using [ ] in which inside each element are seperated using \" , \" . It can aslo contains any type of data types . Inside each element is called an item"
   ]
  },
  {
   "cell_type": "code",
   "execution_count": 35,
   "id": "dfba7a27",
   "metadata": {},
   "outputs": [],
   "source": [
    "fruit_list = []"
   ]
  },
  {
   "cell_type": "code",
   "execution_count": 41,
   "id": "c540ab55",
   "metadata": {},
   "outputs": [
    {
     "data": {
      "text/plain": [
       "list"
      ]
     },
     "execution_count": 41,
     "metadata": {},
     "output_type": "execute_result"
    }
   ],
   "source": [
    "type(fruit_list)"
   ]
  },
  {
   "cell_type": "code",
   "execution_count": 37,
   "id": "659f64dc",
   "metadata": {},
   "outputs": [],
   "source": [
    "todo_list = list()"
   ]
  },
  {
   "cell_type": "code",
   "execution_count": 39,
   "id": "c4ffb5c7",
   "metadata": {},
   "outputs": [
    {
     "data": {
      "text/plain": [
       "list"
      ]
     },
     "execution_count": 39,
     "metadata": {},
     "output_type": "execute_result"
    }
   ],
   "source": [
    "type(todo_list)\n",
    "#Okay here i have used list() which is alternate method for [] ,"
   ]
  },
  {
   "cell_type": "code",
   "execution_count": 43,
   "id": "56fb2a87",
   "metadata": {},
   "outputs": [],
   "source": [
    "fav_cars = [\"Audi\" , \"BMW\" , \"Maclaren\" , \"Rolls Royce\"]"
   ]
  },
  {
   "cell_type": "code",
   "execution_count": 44,
   "id": "c19e9e59",
   "metadata": {},
   "outputs": [
    {
     "data": {
      "text/plain": [
       "['Audi', 'BMW', 'Maclaren', 'Rolls Royce']"
      ]
     },
     "execution_count": 44,
     "metadata": {},
     "output_type": "execute_result"
    }
   ],
   "source": [
    "fav_cars"
   ]
  },
  {
   "cell_type": "markdown",
   "id": "6deb3a45",
   "metadata": {},
   "source": [
    "## Append\n",
    "- Now we can see how to append a new element inside the lists"
   ]
  },
  {
   "cell_type": "code",
   "execution_count": 53,
   "id": "3586fa7d",
   "metadata": {},
   "outputs": [],
   "source": [
    "fav_cars.append([\"Aston Martin\"])"
   ]
  },
  {
   "cell_type": "code",
   "execution_count": 54,
   "id": "38460fcb",
   "metadata": {},
   "outputs": [
    {
     "data": {
      "text/plain": [
       "['Audi',\n",
       " 'BMW',\n",
       " 'Maclaren',\n",
       " 'Benz',\n",
       " 'Benz',\n",
       " 'Rolls Royce',\n",
       " 'Aston Martin',\n",
       " ['Aston Martin']]"
      ]
     },
     "execution_count": 54,
     "metadata": {},
     "output_type": "execute_result"
    }
   ],
   "source": [
    "fav_cars"
   ]
  },
  {
   "cell_type": "markdown",
   "id": "a1c59677",
   "metadata": {},
   "source": [
    "## Insert "
   ]
  },
  {
   "cell_type": "code",
   "execution_count": 50,
   "id": "7fdf1163",
   "metadata": {},
   "outputs": [],
   "source": [
    "fav_cars.insert(3,\"Benz\") \n",
    "#Here i have used .insert function which is used to insert a element  and the 1st parameter is the position where do we need to insert the element"
   ]
  },
  {
   "cell_type": "code",
   "execution_count": 51,
   "id": "5d60d66c",
   "metadata": {},
   "outputs": [
    {
     "data": {
      "text/plain": [
       "['Audi', 'BMW', 'Maclaren', 'Benz', 'Benz', 'Rolls Royce', 'Aston Martin']"
      ]
     },
     "execution_count": 51,
     "metadata": {},
     "output_type": "execute_result"
    }
   ],
   "source": [
    "fav_cars"
   ]
  },
  {
   "cell_type": "code",
   "execution_count": null,
   "id": "0cabe089",
   "metadata": {},
   "outputs": [],
   "source": [
    "fav_cars"
   ]
  },
  {
   "cell_type": "markdown",
   "id": "f8b9d77b",
   "metadata": {},
   "source": [
    "## Extend"
   ]
  },
  {
   "cell_type": "code",
   "execution_count": 55,
   "id": "28da8e38",
   "metadata": {},
   "outputs": [],
   "source": [
    "fav_num = ['1','2','3','4']"
   ]
  },
  {
   "cell_type": "code",
   "execution_count": 57,
   "id": "2b7083ff",
   "metadata": {},
   "outputs": [],
   "source": [
    "fav_num.extend([5,6])"
   ]
  },
  {
   "cell_type": "code",
   "execution_count": 58,
   "id": "c53b3623",
   "metadata": {},
   "outputs": [
    {
     "data": {
      "text/plain": [
       "['1', '2', '3', '4', 5, 6]"
      ]
     },
     "execution_count": 58,
     "metadata": {},
     "output_type": "execute_result"
    }
   ],
   "source": [
    "fav_num"
   ]
  },
  {
   "cell_type": "markdown",
   "id": "cca4ed09",
   "metadata": {},
   "source": [
    "In the above code i have used .extend() method to add more than one elements , the diff between .append() and .extend() , append is use to append only one element by the way extend is use to insert number of elements inside the lists.  "
   ]
  },
  {
   "cell_type": "markdown",
   "id": "bab6a88a",
   "metadata": {},
   "source": [
    "## Various operation used in lists "
   ]
  },
  {
   "cell_type": "code",
   "execution_count": 59,
   "id": "ccf8a651",
   "metadata": {},
   "outputs": [],
   "source": [
    "num = [1 , 2 , 3 , 4 , 5]"
   ]
  },
  {
   "cell_type": "code",
   "execution_count": 60,
   "id": "6c09a929",
   "metadata": {},
   "outputs": [
    {
     "data": {
      "text/plain": [
       "15"
      ]
     },
     "execution_count": 60,
     "metadata": {},
     "output_type": "execute_result"
    }
   ],
   "source": [
    "sum(num) #adds the value inside the lists."
   ]
  },
  {
   "cell_type": "markdown",
   "id": "6b274c55",
   "metadata": {},
   "source": [
    "### .pop() "
   ]
  },
  {
   "cell_type": "code",
   "execution_count": 61,
   "id": "1e92dde2",
   "metadata": {},
   "outputs": [
    {
     "data": {
      "text/plain": [
       "5"
      ]
     },
     "execution_count": 61,
     "metadata": {},
     "output_type": "execute_result"
    }
   ],
   "source": [
    "num.pop()"
   ]
  },
  {
   "cell_type": "code",
   "execution_count": 63,
   "id": "2721ac42",
   "metadata": {},
   "outputs": [
    {
     "data": {
      "text/plain": [
       "[1, 2, 3, 4]"
      ]
     },
     "execution_count": 63,
     "metadata": {},
     "output_type": "execute_result"
    }
   ],
   "source": [
    "num #.pop() is used to remove the last element or , mention a index it will remove the given index"
   ]
  },
  {
   "cell_type": "markdown",
   "id": "5b3f389d",
   "metadata": {},
   "source": [
    "### Count() "
   ]
  },
  {
   "cell_type": "code",
   "execution_count": 64,
   "id": "a59e8701",
   "metadata": {},
   "outputs": [],
   "source": [
    "num = [1,2,3,4,5,6,7,8,8,9,10]"
   ]
  },
  {
   "cell_type": "code",
   "execution_count": 66,
   "id": "cd4d62c5",
   "metadata": {},
   "outputs": [
    {
     "data": {
      "text/plain": [
       "2"
      ]
     },
     "execution_count": 66,
     "metadata": {},
     "output_type": "execute_result"
    }
   ],
   "source": [
    "num.count(8)\n",
    "#8 has been repeated again two times "
   ]
  },
  {
   "cell_type": "markdown",
   "id": "f93bbef1",
   "metadata": {},
   "source": [
    "### Length"
   ]
  },
  {
   "cell_type": "code",
   "execution_count": 68,
   "id": "593ac11f",
   "metadata": {},
   "outputs": [
    {
     "data": {
      "text/plain": [
       "11"
      ]
     },
     "execution_count": 68,
     "metadata": {},
     "output_type": "execute_result"
    }
   ],
   "source": [
    "len(num)\n",
    "# returns the length of the list"
   ]
  },
  {
   "cell_type": "markdown",
   "id": "95cc1a09",
   "metadata": {},
   "source": [
    "### Min and Max "
   ]
  },
  {
   "cell_type": "code",
   "execution_count": 69,
   "id": "6d4ae988",
   "metadata": {},
   "outputs": [
    {
     "data": {
      "text/plain": [
       "1"
      ]
     },
     "execution_count": 69,
     "metadata": {},
     "output_type": "execute_result"
    }
   ],
   "source": [
    "min(num)\n",
    "#returns the min element in the list"
   ]
  },
  {
   "cell_type": "code",
   "execution_count": 71,
   "id": "94e44659",
   "metadata": {},
   "outputs": [
    {
     "data": {
      "text/plain": [
       "10"
      ]
     },
     "execution_count": 71,
     "metadata": {},
     "output_type": "execute_result"
    }
   ],
   "source": [
    "max(num)\n",
    "#returns the max element in the list"
   ]
  },
  {
   "cell_type": "markdown",
   "id": "18904831",
   "metadata": {},
   "source": [
    "## * "
   ]
  },
  {
   "cell_type": "code",
   "execution_count": 73,
   "id": "7888c80c",
   "metadata": {},
   "outputs": [
    {
     "data": {
      "text/plain": [
       "[1, 2, 3, 4, 5, 6, 7, 8, 8, 9, 10, 1, 2, 3, 4, 5, 6, 7, 8, 8, 9, 10]"
      ]
     },
     "execution_count": 73,
     "metadata": {},
     "output_type": "execute_result"
    }
   ],
   "source": [
    "num*2\n",
    "#multiplying the list with 2 produces the following output."
   ]
  },
  {
   "cell_type": "code",
   "execution_count": null,
   "id": "7545c0fe",
   "metadata": {},
   "outputs": [],
   "source": []
  }
 ],
 "metadata": {
  "kernelspec": {
   "display_name": "Python 3 (ipykernel)",
   "language": "python",
   "name": "python3"
  },
  "language_info": {
   "codemirror_mode": {
    "name": "ipython",
    "version": 3
   },
   "file_extension": ".py",
   "mimetype": "text/x-python",
   "name": "python",
   "nbconvert_exporter": "python",
   "pygments_lexer": "ipython3",
   "version": "3.9.7"
  }
 },
 "nbformat": 4,
 "nbformat_minor": 5
}
